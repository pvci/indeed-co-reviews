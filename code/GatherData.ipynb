{
 "cells": [
  {
   "cell_type": "markdown",
   "metadata": {},
   "source": [
    "## Analyze company reviews by employee on indeed.co.in\n",
    "\n",
    "Use company list from NES Top 100, Midcap 100, Smallcap 100\n",
    "* employee have preference for which company type\n",
    "* What are pros/cons of each category of company\n",
    "* Anything sector specific?\n",
    "* co-realtion of rating and stock growth\n",
    "\n",
    "Get list of companies from NSE site and then get India specific refiew using indeed search\n"
   ]
  },
  {
   "cell_type": "code",
   "execution_count": 25,
   "metadata": {},
   "outputs": [],
   "source": [
    "%matplotlib inline\n",
    "\n",
    "import pandas as pd\n",
    "import matplotlib.pyplot as plt\n",
    "import numpy as np\n",
    "\n",
    "import re\n",
    "\n",
    "import urllib3\n",
    "import requests\n",
    "from bs4 import BeautifulSoup\n",
    "from selenium import webdriver\n",
    "import scrapy\n",
    "\n",
    "import json\n",
    "import datetime\n",
    "\n",
    "from nsepy import get_history\n",
    "from datetime import date"
   ]
  },
  {
   "cell_type": "code",
   "execution_count": 26,
   "metadata": {},
   "outputs": [],
   "source": [
    "PROJECT_HOME='C:/Prashant/0Projects/indeed-co-reviews'\n",
    "cmp_list = pd.read_excel('../data/CompanyToReview.xlsx')"
   ]
  },
  {
   "cell_type": "code",
   "execution_count": 27,
   "metadata": {},
   "outputs": [
    {
     "name": "stdout",
     "output_type": "stream",
     "text": [
      "Wall time: 1.1 s\n"
     ]
    }
   ],
   "source": [
    "%%time\n",
    "get_bse_data=get_history('ABB', start=date(2014,1,1), end=date(2019,8,8))"
   ]
  },
  {
   "cell_type": "code",
   "execution_count": 28,
   "metadata": {},
   "outputs": [
    {
     "data": {
      "text/html": [
       "<div>\n",
       "<style scoped>\n",
       "    .dataframe tbody tr th:only-of-type {\n",
       "        vertical-align: middle;\n",
       "    }\n",
       "\n",
       "    .dataframe tbody tr th {\n",
       "        vertical-align: top;\n",
       "    }\n",
       "\n",
       "    .dataframe thead th {\n",
       "        text-align: right;\n",
       "    }\n",
       "</style>\n",
       "<table border=\"1\" class=\"dataframe\">\n",
       "  <thead>\n",
       "    <tr style=\"text-align: right;\">\n",
       "      <th></th>\n",
       "      <th>CompanyName</th>\n",
       "      <th>Industry</th>\n",
       "      <th>Symbol</th>\n",
       "      <th>Series</th>\n",
       "      <th>ISINCode</th>\n",
       "      <th>Type</th>\n",
       "      <th>SearchURL</th>\n",
       "      <th>IndeedCompanyProfile</th>\n",
       "      <th>IndeedCompanyReviewPage</th>\n",
       "    </tr>\n",
       "  </thead>\n",
       "  <tbody>\n",
       "    <tr>\n",
       "      <th>0</th>\n",
       "      <td>ABB India Ltd.</td>\n",
       "      <td>INDUSTRIAL MANUFACTURING</td>\n",
       "      <td>ABB</td>\n",
       "      <td>EQ</td>\n",
       "      <td>INE117A01022</td>\n",
       "      <td>Large</td>\n",
       "      <td>https://www.indeed.co.in/cmp?q=ABB India Ltd.</td>\n",
       "      <td>https://www.indeed.co.in/cmp/Abb</td>\n",
       "      <td>https://www.indeed.co.in/cmp/Abb/reviews/?fcou...</td>\n",
       "    </tr>\n",
       "    <tr>\n",
       "      <th>1</th>\n",
       "      <td>ACC Ltd.</td>\n",
       "      <td>CEMENT &amp; CEMENT PRODUCTS</td>\n",
       "      <td>ACC</td>\n",
       "      <td>EQ</td>\n",
       "      <td>INE012A01025</td>\n",
       "      <td>Large</td>\n",
       "      <td>https://www.indeed.co.in/cmp?q=ACC Ltd.</td>\n",
       "      <td>https://www.indeed.co.in/cmp/Acc-Limited</td>\n",
       "      <td>https://www.indeed.co.in/cmp/Acc-Limited/revie...</td>\n",
       "    </tr>\n",
       "    <tr>\n",
       "      <th>2</th>\n",
       "      <td>Adani Ports and Special Economic Zone Ltd.</td>\n",
       "      <td>SERVICES</td>\n",
       "      <td>ADANIPORTS</td>\n",
       "      <td>EQ</td>\n",
       "      <td>INE742F01042</td>\n",
       "      <td>Large</td>\n",
       "      <td>https://www.indeed.co.in/cmp?q=Adani Ports and...</td>\n",
       "      <td>https://www.indeed.co.in/cmp/Adani-Ports-and-S...</td>\n",
       "      <td>https://www.indeed.co.in/cmp/Adani-Ports-and-S...</td>\n",
       "    </tr>\n",
       "    <tr>\n",
       "      <th>3</th>\n",
       "      <td>Ambuja Cements Ltd.</td>\n",
       "      <td>CEMENT &amp; CEMENT PRODUCTS</td>\n",
       "      <td>AMBUJACEM</td>\n",
       "      <td>EQ</td>\n",
       "      <td>INE079A01024</td>\n",
       "      <td>Large</td>\n",
       "      <td>https://www.indeed.co.in/cmp?q=Ambuja Cements ...</td>\n",
       "      <td>https://www.indeed.co.in/cmp/Ambuja-Cement-Ltd</td>\n",
       "      <td>https://www.indeed.co.in/cmp/Ambuja-Cement-Ltd...</td>\n",
       "    </tr>\n",
       "    <tr>\n",
       "      <th>4</th>\n",
       "      <td>Ashok Leyland Ltd.</td>\n",
       "      <td>AUTOMOBILE</td>\n",
       "      <td>ASHOKLEY</td>\n",
       "      <td>EQ</td>\n",
       "      <td>INE208A01029</td>\n",
       "      <td>Large</td>\n",
       "      <td>https://www.indeed.co.in/cmp?q=Ashok Leyland Ltd.</td>\n",
       "      <td>https://www.indeed.co.in/cmp/Ashok-Leyland</td>\n",
       "      <td>https://www.indeed.co.in/cmp/Ashok-Leyland/rev...</td>\n",
       "    </tr>\n",
       "  </tbody>\n",
       "</table>\n",
       "</div>"
      ],
      "text/plain": [
       "                                  CompanyName                  Industry  \\\n",
       "0                              ABB India Ltd.  INDUSTRIAL MANUFACTURING   \n",
       "1                                    ACC Ltd.  CEMENT & CEMENT PRODUCTS   \n",
       "2  Adani Ports and Special Economic Zone Ltd.                  SERVICES   \n",
       "3                         Ambuja Cements Ltd.  CEMENT & CEMENT PRODUCTS   \n",
       "4                          Ashok Leyland Ltd.                AUTOMOBILE   \n",
       "\n",
       "       Symbol Series      ISINCode   Type  \\\n",
       "0         ABB     EQ  INE117A01022  Large   \n",
       "1         ACC     EQ  INE012A01025  Large   \n",
       "2  ADANIPORTS     EQ  INE742F01042  Large   \n",
       "3   AMBUJACEM     EQ  INE079A01024  Large   \n",
       "4    ASHOKLEY     EQ  INE208A01029  Large   \n",
       "\n",
       "                                           SearchURL  \\\n",
       "0      https://www.indeed.co.in/cmp?q=ABB India Ltd.   \n",
       "1            https://www.indeed.co.in/cmp?q=ACC Ltd.   \n",
       "2  https://www.indeed.co.in/cmp?q=Adani Ports and...   \n",
       "3  https://www.indeed.co.in/cmp?q=Ambuja Cements ...   \n",
       "4  https://www.indeed.co.in/cmp?q=Ashok Leyland Ltd.   \n",
       "\n",
       "                                IndeedCompanyProfile  \\\n",
       "0                   https://www.indeed.co.in/cmp/Abb   \n",
       "1           https://www.indeed.co.in/cmp/Acc-Limited   \n",
       "2  https://www.indeed.co.in/cmp/Adani-Ports-and-S...   \n",
       "3     https://www.indeed.co.in/cmp/Ambuja-Cement-Ltd   \n",
       "4         https://www.indeed.co.in/cmp/Ashok-Leyland   \n",
       "\n",
       "                             IndeedCompanyReviewPage  \n",
       "0  https://www.indeed.co.in/cmp/Abb/reviews/?fcou...  \n",
       "1  https://www.indeed.co.in/cmp/Acc-Limited/revie...  \n",
       "2  https://www.indeed.co.in/cmp/Adani-Ports-and-S...  \n",
       "3  https://www.indeed.co.in/cmp/Ambuja-Cement-Ltd...  \n",
       "4  https://www.indeed.co.in/cmp/Ashok-Leyland/rev...  "
      ]
     },
     "execution_count": 28,
     "metadata": {},
     "output_type": "execute_result"
    }
   ],
   "source": [
    "cmp_list.head()"
   ]
  },
  {
   "cell_type": "code",
   "execution_count": null,
   "metadata": {},
   "outputs": [],
   "source": []
  }
 ],
 "metadata": {
  "kernelspec": {
   "display_name": "Python 3",
   "language": "python",
   "name": "python3"
  },
  "language_info": {
   "codemirror_mode": {
    "name": "ipython",
    "version": 3
   },
   "file_extension": ".py",
   "mimetype": "text/x-python",
   "name": "python",
   "nbconvert_exporter": "python",
   "pygments_lexer": "ipython3",
   "version": "3.6.7"
  }
 },
 "nbformat": 4,
 "nbformat_minor": 2
}
